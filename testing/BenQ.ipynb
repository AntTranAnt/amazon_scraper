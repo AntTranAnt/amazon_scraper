{
 "cells": [
  {
   "cell_type": "code",
   "execution_count": 5,
   "metadata": {},
   "outputs": [],
   "source": [
    "from BenqAmazonScraper import BenqAmazonScraper\n",
    "import pandas as pd\n",
    "import pandas as pd\n",
    "import requests\n",
    "from parsel import Selector\n",
    "from bs4 import BeautifulSoup"
   ]
  },
  {
   "cell_type": "code",
   "execution_count": 7,
   "metadata": {},
   "outputs": [
    {
     "name": "stdout",
     "output_type": "stream",
     "text": [
      "         ASIN\n",
      "0  B0CNSB97QN\n",
      "1  B01H5KKQTM\n"
     ]
    }
   ],
   "source": [
    "benqScraper = BenqAmazonScraper()\n",
    "filename = 'test2.xlsx'\n",
    "data = pd.read_excel(filename, usecols=[0])\n",
    "print(data.head())"
   ]
  },
  {
   "cell_type": "code",
   "execution_count": 6,
   "metadata": {},
   "outputs": [
    {
     "name": "stdout",
     "output_type": "stream",
     "text": [
      "          ASIN  Price  Sold By   Fulfilled By\n",
      "0   B0CNSB97QN    NaN       NaN           NaN\n",
      "1   B01H5KKQTM    NaN       NaN           NaN\n",
      "2   B08G57L985    NaN       NaN           NaN\n",
      "3   B0B434LTLF    NaN       NaN           NaN\n",
      "4   B08G57LF6X    NaN       NaN           NaN\n",
      "..         ...    ...       ...           ...\n",
      "83  B076CTL3BD    NaN       NaN           NaN\n",
      "84  B0911822LZ    NaN       NaN           NaN\n",
      "85  B0BZT3SLWV    NaN       NaN           NaN\n",
      "86  B0BZSYR4YD    NaN       NaN           NaN\n",
      "87  B08412P2GB    NaN       NaN           NaN\n",
      "\n",
      "[88 rows x 4 columns]\n",
      "          ASIN                             Price  Sold By   Fulfilled By\n",
      "0   B0CNSB97QN  https://www.amazon/dp/B0CNSB97QN       NaN           NaN\n",
      "1   B01H5KKQTM  https://www.amazon/dp/B01H5KKQTM       NaN           NaN\n",
      "2   B08G57L985  https://www.amazon/dp/B08G57L985       NaN           NaN\n",
      "3   B0B434LTLF  https://www.amazon/dp/B0B434LTLF       NaN           NaN\n",
      "4   B08G57LF6X  https://www.amazon/dp/B08G57LF6X       NaN           NaN\n",
      "..         ...                               ...       ...           ...\n",
      "83  B076CTL3BD  https://www.amazon/dp/B076CTL3BD       NaN           NaN\n",
      "84  B0911822LZ  https://www.amazon/dp/B0911822LZ       NaN           NaN\n",
      "85  B0BZT3SLWV  https://www.amazon/dp/B0BZT3SLWV       NaN           NaN\n",
      "86  B0BZSYR4YD  https://www.amazon/dp/B0BZSYR4YD       NaN           NaN\n",
      "87  B08412P2GB  https://www.amazon/dp/B08412P2GB       NaN           NaN\n",
      "\n",
      "[88 rows x 4 columns]\n"
     ]
    },
    {
     "name": "stderr",
     "output_type": "stream",
     "text": [
      "C:\\Users\\anthony.tran\\AppData\\Local\\Temp\\ipykernel_23972\\1869427432.py:7: FutureWarning: Setting an item of incompatible dtype is deprecated and will raise an error in a future version of pandas. Value 'https://www.amazon/dp/B0CNSB97QN' has dtype incompatible with float64, please explicitly cast to a compatible dtype first.\n",
      "  excel_df.iat[index, 1] = baseLink\n"
     ]
    }
   ],
   "source": [
    "file_path = \"test.xlsx\"\n",
    "excel_df = pd.DataFrame()\n",
    "excel_df = pd.read_excel(file_path)\n",
    "print(excel_df)\n",
    "for index, row in excel_df.iterrows():\n",
    "    baseLink = \"https://www.amazon/dp/\" + str(excel_df.iat[index, 0])\n",
    "    excel_df.iat[index, 1] = baseLink\n",
    "print(excel_df)"
   ]
  },
  {
   "cell_type": "code",
   "execution_count": 22,
   "metadata": {},
   "outputs": [],
   "source": [
    "baseLink1 = \"https://www.amazon.com/dp/\" + \"B0CNSB97QN\" #Ships from Amazon, Sold by BenQ INFTY Lab\n",
    "baseLink2 = \"https://www.amazon.com/dp/\" + \"B01H5KKQTM\" #Currently unavailable\n",
    "baseLink3 = \"https://www.amazon.com/dp/\" + \"B08G57LF6X\" #Ships from Adorama, Sold by Adorama\n",
    "baseLink4 = \"https://www.amazon.com/dp/\" + \"B0B434LTLF\" #Ships from Benq, sold by Benq\n",
    "baseLink5 = \"https://www.amazon.com/dp/\" + \"B08G57L985\" #Ships from INFTY, sold by INFTY\n",
    "custom_header = {\n",
    "    'user-agent': 'Mozilla/5.0 (Windows NT 10.0; Win64; x64) AppleWebKit/537.36 (KHTML, like Gecko) Chrome/122.0.0.0 Safari/537.36',\n",
    "    'accept-language': 'en-GB,en;q=0.9'\n",
    "}\n",
    "try:\n",
    "    response = requests.get(baseLink5, headers=custom_header)\n",
    "    if response.status_code == 200:\n",
    "        sel = Selector(text=response.text)\n",
    "        price = \"$\" + sel.css('.a-price-whole ::text').get(\"\") + \".\" + sel.css('.a-price-fraction ::text').get(\"\")\n",
    "        # Try using beautiful soup\n",
    "        soup = BeautifulSoup(response.text, 'html.parser')\n",
    "        buybox = soup.find(id='desktop_buybox')\n",
    "        buyboxSoup = BeautifulSoup(str(buybox), 'html.parser')\n",
    "        shipsFrom = buyboxSoup.find(id='shipFromSoldByAbbreviated_feature_div')\n",
    "        shipsFrom2 = buyboxSoup.find(id=\"sellerProfileTriggerId\")\n",
    "\n",
    "        availability_indicator = soup.find('span', string='Currently unavailable.')\n",
    "\n",
    "        if availability_indicator:\n",
    "            print(\"product is unavailable\")\n",
    "            \n",
    "except Exception as e:\n",
    "    print(e)"
   ]
  },
  {
   "cell_type": "code",
   "execution_count": 24,
   "metadata": {},
   "outputs": [
    {
     "name": "stdout",
     "output_type": "stream",
     "text": [
      "BenQ INFTY Lab\n"
     ]
    }
   ],
   "source": [
    "shipsFromInfo = BeautifulSoup(str(shipsFrom), 'html.parser')\n",
    "span_elements = shipsFromInfo.find_all('span')\n",
    "\n",
    "# shipsFrom shows Ships by\n",
    "# shipsFrom2 shows Sold by\n",
    "with open('text1.txt', 'w') as file:\n",
    "    file.write(str(shipsFrom))\n",
    "\n",
    "with open('text2.txt', 'w') as file:\n",
    "    if (shipsFrom2):\n",
    "        file.write(\"Sold by: \" + str(shipsFrom2.text) + '\\n') #Sold by\n",
    "    else:\n",
    "        file.write(\"Sold by: Amazon\\n\")\n",
    "    if len(span_elements) == 0:\n",
    "        file.write(\"Shipped From: Amazon\\n\") #Ships from\n",
    "    else:\n",
    "        index = 0\n",
    "        while index < len(span_elements):\n",
    "            if span_elements[index].text.strip() == \"Ships from:\":\n",
    "                # Return this\n",
    "                shipsFrom = str(span_elements[index + 1].text)\n",
    "                file.write(\"Shipped From: \" + shipsFrom) #Ships from\n",
    "                index = len(span_elements)\n",
    "            else:\n",
    "                index += 1\n",
    "\n",
    "print(shipsFrom2.text)#none on unavailable"
   ]
  },
  {
   "cell_type": "code",
   "execution_count": 38,
   "metadata": {},
   "outputs": [],
   "source": [
    "# If not ship by Amazon\n",
    "for span in span_elements:\n",
    "    print(span.text)\n",
    "index = 0\n",
    "# shipsFrom = \"\"\n",
    "# soldBy = \"\"\n",
    "while index < len(span_elements):\n",
    "    if span_elements[index].text.strip() == \"Ships from:\":\n",
    "        # Return this\n",
    "        shipsFrom = str(span_elements[index + 1].text)\n",
    "        print(shipsFrom)\n",
    "        index += 2\n",
    "    elif span_elements[index].text.strip() == \"Sold by:\":\n",
    "        soldBy = span_elements[index + 1].text\n",
    "        print(soldBy)\n",
    "        index += 2\n",
    "    else:\n",
    "        index += 1"
   ]
  },
  {
   "cell_type": "code",
   "execution_count": 1,
   "metadata": {},
   "outputs": [
    {
     "name": "stdout",
     "output_type": "stream",
     "text": [
      "/output_10:10:29.xlsx\n"
     ]
    }
   ],
   "source": [
    "from datetime import datetime\n",
    "current_time = datetime.now().time()\n",
    "excel_file_path = '/output_' + current_time.strftime(\"%H:%H:%S\") + '.xlsx'\n",
    "print(excel_file_path)"
   ]
  }
 ],
 "metadata": {
  "kernelspec": {
   "display_name": "Python 3",
   "language": "python",
   "name": "python3"
  },
  "language_info": {
   "codemirror_mode": {
    "name": "ipython",
    "version": 3
   },
   "file_extension": ".py",
   "mimetype": "text/x-python",
   "name": "python",
   "nbconvert_exporter": "python",
   "pygments_lexer": "ipython3",
   "version": "3.12.2"
  }
 },
 "nbformat": 4,
 "nbformat_minor": 2
}
