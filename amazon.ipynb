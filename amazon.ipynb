{
 "cells": [
  {
   "cell_type": "code",
   "execution_count": 1,
   "metadata": {},
   "outputs": [],
   "source": [
    "import requests\n",
    "from parsel import Selector\n",
    "from urllib.parse import urljoin\n",
    "import time\n",
    "import random\n",
    "import pandas as pd\n",
    "import openpyxl\n",
    "\n",
    "# notes\n",
    "# if doesn't have BENQ title, not from BenQ\n",
    "\n",
    "# Code\n",
    "# https://scrapeops.io/web-scraping-playbook/how-to-scrape-amazon/\n",
    "# https://oxylabs.io/blog/how-to-scrape-amazon-product-data"
   ]
  },
  {
   "cell_type": "code",
   "execution_count": 2,
   "metadata": {},
   "outputs": [],
   "source": [
    "class AmazonProduct:\n",
    "    # private class variables\n",
    "    asin: int\n",
    "    name: str\n",
    "    productUrl: str\n",
    "    relativeUrl: str\n",
    "    sale_price: float\n",
    "    real_price: float\n",
    "    logo: str\n",
    "\n",
    "    def __init__(self, asin=0, name=\"\", productUrl=\"\", relativeUrl=\"\", sale_price=0, real_price=0, logo=\"None\"):\n",
    "        self.asin = asin\n",
    "        self.name = name\n",
    "        self.productUrl = productUrl\n",
    "        self.relativeUrl = relativeUrl\n",
    "        self.sale_price = sale_price\n",
    "        self.real_price = real_price\n",
    "        self.logo = logo\n",
    "\n",
    "    def to_dict(self):\n",
    "        return {\n",
    "            'Asin': self.asin,\n",
    "            'Product Name': self.name,\n",
    "            'Product Url': self.productUrl,\n",
    "            'Relative Url': self.relativeUrl,\n",
    "            'Sales Price': self.sale_price,\n",
    "            'Real Price': self.real_price,\n",
    "            'Company': self.logo\n",
    "        }"
   ]
  },
  {
   "cell_type": "code",
   "execution_count": 3,
   "metadata": {},
   "outputs": [
    {
     "name": "stdout",
     "output_type": "stream",
     "text": [
      "Page: 1\n",
      "Page: 2\n",
      "Page: 3\n"
     ]
    }
   ],
   "source": [
    "# custom header\n",
    "custom_header = {\n",
    "    'user-agent': 'Mozilla/5.0 (Windows NT 10.0; Win64; x64) AppleWebKit/537.36 (KHTML, like Gecko) Chrome/122.0.0.0 Safari/537.36',\n",
    "    'accept-language': 'en-GB,en;q=0.9'\n",
    "}\n",
    "\n",
    "# Array to hold AmazonProduct\n",
    "product_overview = []\n",
    "\n",
    "# keyword for amazon search\n",
    "keyword = 'benq'\n",
    "\n",
    "url_list = [f'https://www.amazon.com/s?k={keyword}&page=1']\n",
    "pages_scanned = 0\n",
    "\n",
    "for url in url_list:\n",
    "    # wait before accessing page\n",
    "    time.sleep(random.randint(2, 4)) \n",
    "    try:\n",
    "        response = requests.get(url, headers=custom_header)\n",
    "        if response.status_code == 200:\n",
    "            pages_scanned += 1\n",
    "            sel =  Selector(text=response.text)\n",
    "            print(\"Page: \" + str(pages_scanned))\n",
    "\n",
    "            ## Extract Product Page URLs\n",
    "            search_products = sel.css(\"div.s-result-item[data-component-type=s-search-result]\")\n",
    "\n",
    "            # Searches for basic amazon product data\n",
    "            for product in search_products:\n",
    "                relative_url = product.css(\"h2>a::attr(href)\").get()\n",
    "                product_url = urljoin('https://www.amazon.com/', relative_url).split(\"?\")[0]\n",
    "                asin = relative_url.split('/')[3] if len(relative_url.split('/')) >= 4 else None\n",
    "                sale_price = product.css(\".a-price[data-a-size=xl] .a-offscreen::text\").get()\n",
    "                real_price = product.css(\".a-price[data-a-size=b] .a-offscreen::text\").get()\n",
    "                name = product.css(\"h2>a>span::text\").get()\n",
    "                logo = product.css(\"h2>span::text\").get()\n",
    "                if real_price == None:\n",
    "                    real_price = sale_price\n",
    "\n",
    "                productObject = AmazonProduct(asin, name, product_url, relative_url, sale_price, real_price, logo)\n",
    "\n",
    "                # appends product data for each product into object\n",
    "                product_overview.append(productObject)\n",
    "            \n",
    "            # Gets all pages from page 1 to pages\n",
    "            if \"&page=1\" in url:\n",
    "                pages = 3\n",
    "                for i in range(2, pages + 1):\n",
    "                    new_page_url = f'https://www.amazon.com/s?k={keyword}&page={i}'\n",
    "                    url_list.append(new_page_url)\n",
    "\n",
    "    except Exception as e:\n",
    "        print(\"Error\", e)"
   ]
  },
  {
   "cell_type": "code",
   "execution_count": 3,
   "metadata": {},
   "outputs": [
    {
     "ename": "NameError",
     "evalue": "name 'pd' is not defined",
     "output_type": "error",
     "traceback": [
      "\u001b[1;31m---------------------------------------------------------------------------\u001b[0m",
      "\u001b[1;31mNameError\u001b[0m                                 Traceback (most recent call last)",
      "Cell \u001b[1;32mIn[3], line 2\u001b[0m\n\u001b[0;32m      1\u001b[0m \u001b[38;5;66;03m# create dataframe from list of objects\u001b[39;00m\n\u001b[1;32m----> 2\u001b[0m df \u001b[38;5;241m=\u001b[39m \u001b[43mpd\u001b[49m\u001b[38;5;241m.\u001b[39mDataFrame([product\u001b[38;5;241m.\u001b[39mto_dict() \u001b[38;5;28;01mfor\u001b[39;00m product \u001b[38;5;129;01min\u001b[39;00m product_overview])\n\u001b[0;32m      4\u001b[0m \u001b[38;5;66;03m# export to excel\u001b[39;00m\n\u001b[0;32m      5\u001b[0m \u001b[38;5;28mprint\u001b[39m(df)\n",
      "\u001b[1;31mNameError\u001b[0m: name 'pd' is not defined"
     ]
    }
   ],
   "source": [
    "# create dataframe from list of objects\n",
    "df = pd.DataFrame([product.to_dict() for product in product_overview])\n",
    "\n",
    "# export to excel\n",
    "print(df)"
   ]
  },
  {
   "cell_type": "code",
   "execution_count": 19,
   "metadata": {},
   "outputs": [
    {
     "name": "stdout",
     "output_type": "stream",
     "text": [
      "C:\\Users\\anthony.tran\\Desktop\\Anthony\\Amazon_scraper\\output.xlsx\n",
      "C:\\\\Users\\\\anthony.tran\\\\Desktop\\\\Anthony\\\\Amazon_scraper\\\\output.xlsx\n"
     ]
    }
   ],
   "source": [
    "excel_file_path = 'C:\\\\Users\\\\anthony.tran\\\\Desktop\\\\Anthony\\\\Amazon_scraper\\\\output.xlsx'\n",
    "print(excel_file_path)\n",
    "excel_file_path = excel_file_path.replace(\"\\\\\", \"\\\\\\\\\")\n",
    "print(excel_file_path)\n",
    "excel_file_path = self.folderPath + '/output.xlsx'\n",
    "df.to_excel(excel_file_path, index=False)"
   ]
  },
  {
   "cell_type": "code",
   "execution_count": 4,
   "metadata": {},
   "outputs": [
    {
     "name": "stdout",
     "output_type": "stream",
     "text": [
      "C:\\Users\\anthony.tran\\Desktop\\Anthony\\Amazon_scraper\\output.xlsx\n"
     ]
    }
   ],
   "source": [
    "excel_file_path = r'C:\\Users\\anthony.tran\\Desktop\\Anthony\\Amazon_scraper\\output.xlsx'\n",
    "# excel_file_path.encode('unicode-escape').decode()\n",
    "print(excel_file_path)\n",
    "# df.to_excel(excel_file_path, index=False)"
   ]
  }
 ],
 "metadata": {
  "kernelspec": {
   "display_name": "Python 3",
   "language": "python",
   "name": "python3"
  },
  "language_info": {
   "codemirror_mode": {
    "name": "ipython",
    "version": 3
   },
   "file_extension": ".py",
   "mimetype": "text/x-python",
   "name": "python",
   "nbconvert_exporter": "python",
   "pygments_lexer": "ipython3",
   "version": "3.12.2"
  }
 },
 "nbformat": 4,
 "nbformat_minor": 2
}
