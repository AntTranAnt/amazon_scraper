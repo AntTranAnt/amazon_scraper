{
 "cells": [
  {
   "cell_type": "code",
   "execution_count": 10,
   "metadata": {},
   "outputs": [],
   "source": [
    "from BenqAmazonScraper import BenqAmazonScraper\n",
    "import pandas as pd"
   ]
  },
  {
   "cell_type": "code",
   "execution_count": 52,
   "metadata": {},
   "outputs": [],
   "source": [
    "benqScraper = BenqAmazonScraper()\n",
    "benqScraper.setFileName(\"test.xlsx\")\n",
    "benqScraper.readFile()\n",
    "benqScraper.searchASIN()\n",
    "# print(benqScraper.dataframe)"
   ]
  },
  {
   "cell_type": "code",
   "execution_count": 48,
   "metadata": {},
   "outputs": [
    {
     "name": "stdout",
     "output_type": "stream",
     "text": [
      "          ASIN  Price  Sold By   Fulfilled By\n",
      "0   B0CNSB97QN    NaN       NaN           NaN\n",
      "1   B01H5KKQTM    NaN       NaN           NaN\n",
      "2   B08G57L985    NaN       NaN           NaN\n",
      "3   B0B434LTLF    NaN       NaN           NaN\n",
      "4   B08G57LF6X    NaN       NaN           NaN\n",
      "..         ...    ...       ...           ...\n",
      "83  B076CTL3BD    NaN       NaN           NaN\n",
      "84  B0911822LZ    NaN       NaN           NaN\n",
      "85  B0BZT3SLWV    NaN       NaN           NaN\n",
      "86  B0BZSYR4YD    NaN       NaN           NaN\n",
      "87  B08412P2GB    NaN       NaN           NaN\n",
      "\n",
      "[88 rows x 4 columns]\n",
      "          ASIN                             Price  Sold By   Fulfilled By\n",
      "0   B0CNSB97QN  https://www.amazon/dp/B0CNSB97QN       NaN           NaN\n",
      "1   B01H5KKQTM  https://www.amazon/dp/B01H5KKQTM       NaN           NaN\n",
      "2   B08G57L985  https://www.amazon/dp/B08G57L985       NaN           NaN\n",
      "3   B0B434LTLF  https://www.amazon/dp/B0B434LTLF       NaN           NaN\n",
      "4   B08G57LF6X  https://www.amazon/dp/B08G57LF6X       NaN           NaN\n",
      "..         ...                               ...       ...           ...\n",
      "83  B076CTL3BD  https://www.amazon/dp/B076CTL3BD       NaN           NaN\n",
      "84  B0911822LZ  https://www.amazon/dp/B0911822LZ       NaN           NaN\n",
      "85  B0BZT3SLWV  https://www.amazon/dp/B0BZT3SLWV       NaN           NaN\n",
      "86  B0BZSYR4YD  https://www.amazon/dp/B0BZSYR4YD       NaN           NaN\n",
      "87  B08412P2GB  https://www.amazon/dp/B08412P2GB       NaN           NaN\n",
      "\n",
      "[88 rows x 4 columns]\n"
     ]
    },
    {
     "name": "stderr",
     "output_type": "stream",
     "text": [
      "C:\\Users\\anthony.tran\\AppData\\Local\\Temp\\ipykernel_68680\\1869427432.py:7: FutureWarning: Setting an item of incompatible dtype is deprecated and will raise an error in a future version of pandas. Value 'https://www.amazon/dp/B0CNSB97QN' has dtype incompatible with float64, please explicitly cast to a compatible dtype first.\n",
      "  excel_df.iat[index, 1] = baseLink\n"
     ]
    }
   ],
   "source": [
    "file_path = \"test.xlsx\"\n",
    "excel_df = pd.DataFrame()\n",
    "excel_df = pd.read_excel(file_path)\n",
    "print(excel_df)\n",
    "for index, row in excel_df.iterrows():\n",
    "    baseLink = \"https://www.amazon/dp/\" + str(excel_df.iat[index, 0])\n",
    "    excel_df.iat[index, 1] = baseLink\n",
    "print(excel_df)"
   ]
  }
 ],
 "metadata": {
  "kernelspec": {
   "display_name": "Python 3",
   "language": "python",
   "name": "python3"
  },
  "language_info": {
   "codemirror_mode": {
    "name": "ipython",
    "version": 3
   },
   "file_extension": ".py",
   "mimetype": "text/x-python",
   "name": "python",
   "nbconvert_exporter": "python",
   "pygments_lexer": "ipython3",
   "version": "3.12.2"
  }
 },
 "nbformat": 4,
 "nbformat_minor": 2
}
