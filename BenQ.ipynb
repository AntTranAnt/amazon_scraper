{
 "cells": [
  {
   "cell_type": "code",
   "execution_count": 28,
   "metadata": {},
   "outputs": [],
   "source": [
    "from BenqAmazonScraper import BenqAmazonScraper\n",
    "import pandas as pd\n",
    "import pandas as pd\n",
    "import requests\n",
    "from parsel import Selector\n",
    "from bs4 import BeautifulSoup"
   ]
  },
  {
   "cell_type": "code",
   "execution_count": 52,
   "metadata": {},
   "outputs": [],
   "source": [
    "benqScraper = BenqAmazonScraper()\n",
    "benqScraper.setFileName(\"test.xlsx\")\n",
    "benqScraper.readFile()\n",
    "benqScraper.searchASIN()\n",
    "# print(benqScraper.dataframe)"
   ]
  },
  {
   "cell_type": "code",
   "execution_count": 48,
   "metadata": {},
   "outputs": [
    {
     "name": "stdout",
     "output_type": "stream",
     "text": [
      "          ASIN  Price  Sold By   Fulfilled By\n",
      "0   B0CNSB97QN    NaN       NaN           NaN\n",
      "1   B01H5KKQTM    NaN       NaN           NaN\n",
      "2   B08G57L985    NaN       NaN           NaN\n",
      "3   B0B434LTLF    NaN       NaN           NaN\n",
      "4   B08G57LF6X    NaN       NaN           NaN\n",
      "..         ...    ...       ...           ...\n",
      "83  B076CTL3BD    NaN       NaN           NaN\n",
      "84  B0911822LZ    NaN       NaN           NaN\n",
      "85  B0BZT3SLWV    NaN       NaN           NaN\n",
      "86  B0BZSYR4YD    NaN       NaN           NaN\n",
      "87  B08412P2GB    NaN       NaN           NaN\n",
      "\n",
      "[88 rows x 4 columns]\n",
      "          ASIN                             Price  Sold By   Fulfilled By\n",
      "0   B0CNSB97QN  https://www.amazon/dp/B0CNSB97QN       NaN           NaN\n",
      "1   B01H5KKQTM  https://www.amazon/dp/B01H5KKQTM       NaN           NaN\n",
      "2   B08G57L985  https://www.amazon/dp/B08G57L985       NaN           NaN\n",
      "3   B0B434LTLF  https://www.amazon/dp/B0B434LTLF       NaN           NaN\n",
      "4   B08G57LF6X  https://www.amazon/dp/B08G57LF6X       NaN           NaN\n",
      "..         ...                               ...       ...           ...\n",
      "83  B076CTL3BD  https://www.amazon/dp/B076CTL3BD       NaN           NaN\n",
      "84  B0911822LZ  https://www.amazon/dp/B0911822LZ       NaN           NaN\n",
      "85  B0BZT3SLWV  https://www.amazon/dp/B0BZT3SLWV       NaN           NaN\n",
      "86  B0BZSYR4YD  https://www.amazon/dp/B0BZSYR4YD       NaN           NaN\n",
      "87  B08412P2GB  https://www.amazon/dp/B08412P2GB       NaN           NaN\n",
      "\n",
      "[88 rows x 4 columns]\n"
     ]
    },
    {
     "name": "stderr",
     "output_type": "stream",
     "text": [
      "C:\\Users\\anthony.tran\\AppData\\Local\\Temp\\ipykernel_68680\\1869427432.py:7: FutureWarning: Setting an item of incompatible dtype is deprecated and will raise an error in a future version of pandas. Value 'https://www.amazon/dp/B0CNSB97QN' has dtype incompatible with float64, please explicitly cast to a compatible dtype first.\n",
      "  excel_df.iat[index, 1] = baseLink\n"
     ]
    }
   ],
   "source": [
    "file_path = \"test.xlsx\"\n",
    "excel_df = pd.DataFrame()\n",
    "excel_df = pd.read_excel(file_path)\n",
    "print(excel_df)\n",
    "for index, row in excel_df.iterrows():\n",
    "    baseLink = \"https://www.amazon/dp/\" + str(excel_df.iat[index, 0])\n",
    "    excel_df.iat[index, 1] = baseLink\n",
    "print(excel_df)"
   ]
  },
  {
   "cell_type": "code",
   "execution_count": 40,
   "metadata": {},
   "outputs": [
    {
     "name": "stdout",
     "output_type": "stream",
     "text": [
      "$499.99\n"
     ]
    }
   ],
   "source": [
    "baseLink = \"https://www.amazon.com/dp/\" + \"B0CNSB97QN\"\n",
    "# baseLink = \"https://www.amazon.com/dp/\" + \"B01H5KKQTM\"\n",
    "custom_header = {\n",
    "    'user-agent': 'Mozilla/5.0 (Windows NT 10.0; Win64; x64) AppleWebKit/537.36 (KHTML, like Gecko) Chrome/122.0.0.0 Safari/537.36',\n",
    "    'accept-language': 'en-GB,en;q=0.9'\n",
    "}\n",
    "try:\n",
    "    response = requests.get(baseLink, headers=custom_header)\n",
    "    if response.status_code == 200:\n",
    "        sel = Selector(text=response.text)\n",
    "        price = \"$\" + sel.css('.a-price-whole ::text').get(\"\") + \".\" + sel.css('.a-price-fraction ::text').get(\"\")\n",
    "        # Try using beautiful soup\n",
    "        soup = BeautifulSoup(response.text, 'html.parser')\n",
    "        buybox = soup.find(id='desktop_buybox')\n",
    "        buyboxSoup = BeautifulSoup(str(buybox), 'html.parser')\n",
    "        shipsFrom = buyboxSoup.find(id='shipFromSoldByAbbreviated_feature_div')\n",
    "        # shipsFrom = sel.css('span.a-size-small.offer-display-feature-text-message::text').get()\n",
    "        # soldBy = sel.css().get('.offer-display-feature-text-message ::text').get(\"\")\n",
    "        if not price:\n",
    "            print(\"Product is Currently Unavailable\")\n",
    "        else:\n",
    "            print(price)\n",
    "            # print(shipsFrom)\n",
    "except Exception as e:\n",
    "    print(e)"
   ]
  },
  {
   "cell_type": "code",
   "execution_count": 42,
   "metadata": {},
   "outputs": [
    {
     "name": "stdout",
     "output_type": "stream",
     "text": [
      "[<span class=\"a-size-small\"> Ships from: </span>, <span class=\"a-size-small\"> Amazon </span>, <span class=\"a-size-small\"> Sold by: </span>, <span class=\"a-size-small\"> BenQ INFTY Lab </span>]\n"
     ]
    }
   ],
   "source": [
    "with open('text.txt', 'w') as file:\n",
    "    file.write(str(buybox))\n",
    "with open('text2.txt', 'w') as file:\n",
    "    file.write(str(shipsFrom))\n",
    "shipsFromInfo = BeautifulSoup(str(shipsFrom), 'html.parser')\n",
    "span_elements = shipsFromInfo.find_all('span')\n",
    "print(span_elements)"
   ]
  },
  {
   "cell_type": "code",
   "execution_count": 56,
   "metadata": {},
   "outputs": [
    {
     "name": "stdout",
     "output_type": "stream",
     "text": [
      " Ships from: \n",
      " Amazon \n",
      " Sold by: \n",
      " BenQ INFTY Lab \n",
      "<span class=\"a-size-small\"> Ships from: </span>\n"
     ]
    },
    {
     "ename": "TypeError",
     "evalue": "'str' object is not callable",
     "output_type": "error",
     "traceback": [
      "\u001b[1;31m---------------------------------------------------------------------------\u001b[0m",
      "\u001b[1;31mTypeError\u001b[0m                                 Traceback (most recent call last)",
      "Cell \u001b[1;32mIn[56], line 9\u001b[0m\n\u001b[0;32m      7\u001b[0m \u001b[38;5;28;01mwhile\u001b[39;00m index \u001b[38;5;241m<\u001b[39m \u001b[38;5;28mlen\u001b[39m(span_elements):\n\u001b[0;32m      8\u001b[0m     \u001b[38;5;28;01mif\u001b[39;00m span_elements[index]\u001b[38;5;241m.\u001b[39mtext\u001b[38;5;241m.\u001b[39mstrip() \u001b[38;5;241m==\u001b[39m \u001b[38;5;124m\"\u001b[39m\u001b[38;5;124mShips from:\u001b[39m\u001b[38;5;124m\"\u001b[39m:\n\u001b[1;32m----> 9\u001b[0m         \u001b[38;5;28mprint\u001b[39m(\u001b[38;5;28mstr\u001b[39m(\u001b[43mspan_elements\u001b[49m\u001b[43m[\u001b[49m\u001b[43mindex\u001b[49m\u001b[43m \u001b[49m\u001b[38;5;241;43m+\u001b[39;49m\u001b[43m \u001b[49m\u001b[38;5;241;43m1\u001b[39;49m\u001b[43m]\u001b[49m\u001b[38;5;241;43m.\u001b[39;49m\u001b[43mtext\u001b[49m\u001b[43m(\u001b[49m\u001b[43m)\u001b[49m))\n\u001b[0;32m     10\u001b[0m         index \u001b[38;5;241m+\u001b[39m\u001b[38;5;241m=\u001b[39m \u001b[38;5;241m2\u001b[39m\n\u001b[0;32m     11\u001b[0m     \u001b[38;5;28;01melif\u001b[39;00m span_elements[index]\u001b[38;5;241m.\u001b[39mtext\u001b[38;5;241m.\u001b[39mstrip() \u001b[38;5;241m==\u001b[39m \u001b[38;5;124m\"\u001b[39m\u001b[38;5;124mSold by:\u001b[39m\u001b[38;5;124m\"\u001b[39m:\n",
      "\u001b[1;31mTypeError\u001b[0m: 'str' object is not callable"
     ]
    }
   ],
   "source": [
    "for span in span_elements:\n",
    "    print(span.text)\n",
    "print(span_elements[0])\n",
    "index = 0\n",
    "# shipsFrom = \"\"\n",
    "# soldBy = \"\"\n",
    "while index < len(span_elements):\n",
    "    if span_elements[index].text.strip() == \"Ships from:\":\n",
    "        print(str(span_elements[index + 1].text()))\n",
    "        index += 2\n",
    "    elif span_elements[index].text.strip() == \"Sold by:\":\n",
    "        soldBy = span_elements[index + 1].text()\n",
    "        index += 2\n",
    "    else:\n",
    "        index += 1\n",
    "print(shipsFrom)\n",
    "print(soldBy)"
   ]
  }
 ],
 "metadata": {
  "kernelspec": {
   "display_name": "Python 3",
   "language": "python",
   "name": "python3"
  },
  "language_info": {
   "codemirror_mode": {
    "name": "ipython",
    "version": 3
   },
   "file_extension": ".py",
   "mimetype": "text/x-python",
   "name": "python",
   "nbconvert_exporter": "python",
   "pygments_lexer": "ipython3",
   "version": "3.12.2"
  }
 },
 "nbformat": 4,
 "nbformat_minor": 2
}
