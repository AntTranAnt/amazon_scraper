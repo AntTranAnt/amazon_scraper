{
 "cells": [
  {
   "cell_type": "code",
   "execution_count": 10,
   "metadata": {},
   "outputs": [],
   "source": [
    "from BenqAmazonScraper import BenqAmazonScraper\n",
    "import pandas as pd"
   ]
  },
  {
   "cell_type": "code",
   "execution_count": 17,
   "metadata": {},
   "outputs": [
    {
     "name": "stdout",
     "output_type": "stream",
     "text": [
      "          ASIN  Price  Sold By   Fulfilled By\n",
      "0   B0CNSB97QN    NaN       NaN           NaN\n",
      "1   B01H5KKQTM    NaN       NaN           NaN\n",
      "2   B08G57L985    NaN       NaN           NaN\n",
      "3   B0B434LTLF    NaN       NaN           NaN\n",
      "4   B08G57LF6X    NaN       NaN           NaN\n",
      "..         ...    ...       ...           ...\n",
      "83  B076CTL3BD    NaN       NaN           NaN\n",
      "84  B0911822LZ    NaN       NaN           NaN\n",
      "85  B0BZT3SLWV    NaN       NaN           NaN\n",
      "86  B0BZSYR4YD    NaN       NaN           NaN\n",
      "87  B08412P2GB    NaN       NaN           NaN\n",
      "\n",
      "[88 rows x 4 columns]\n"
     ]
    }
   ],
   "source": [
    "benqScraper = BenqAmazonScraper()\n",
    "benqScraper.setFileName(\"test.xlsx\")\n",
    "benqScraper.readFile()\n",
    "print(benqScraper.dataframe)"
   ]
  },
  {
   "cell_type": "code",
   "execution_count": 14,
   "metadata": {},
   "outputs": [
    {
     "name": "stdout",
     "output_type": "stream",
     "text": [
      "          ASIN  Price  Sold By   Fulfilled By\n",
      "0   B0CNSB97QN    NaN       NaN           NaN\n",
      "1   B01H5KKQTM    NaN       NaN           NaN\n",
      "2   B08G57L985    NaN       NaN           NaN\n",
      "3   B0B434LTLF    NaN       NaN           NaN\n",
      "4   B08G57LF6X    NaN       NaN           NaN\n",
      "..         ...    ...       ...           ...\n",
      "83  B076CTL3BD    NaN       NaN           NaN\n",
      "84  B0911822LZ    NaN       NaN           NaN\n",
      "85  B0BZT3SLWV    NaN       NaN           NaN\n",
      "86  B0BZSYR4YD    NaN       NaN           NaN\n",
      "87  B08412P2GB    NaN       NaN           NaN\n",
      "\n",
      "[88 rows x 4 columns]\n"
     ]
    }
   ],
   "source": [
    "file_path = \"test.xlsx\"\n",
    "excel_df = pd.DataFrame()\n",
    "excel_df = pd.read_excel(file_path)\n",
    "print(excel_df)"
   ]
  }
 ],
 "metadata": {
  "kernelspec": {
   "display_name": "Python 3",
   "language": "python",
   "name": "python3"
  },
  "language_info": {
   "codemirror_mode": {
    "name": "ipython",
    "version": 3
   },
   "file_extension": ".py",
   "mimetype": "text/x-python",
   "name": "python",
   "nbconvert_exporter": "python",
   "pygments_lexer": "ipython3",
   "version": "3.12.2"
  }
 },
 "nbformat": 4,
 "nbformat_minor": 2
}
